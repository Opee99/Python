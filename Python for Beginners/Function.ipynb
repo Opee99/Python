{
 "cells": [
  {
   "cell_type": "code",
   "execution_count": 1,
   "id": "01df3aba",
   "metadata": {},
   "outputs": [
    {
     "name": "stdout",
     "output_type": "stream",
     "text": [
      "Hello\n"
     ]
    }
   ],
   "source": [
    "print(\"Hello\")"
   ]
  },
  {
   "cell_type": "code",
   "execution_count": 2,
   "id": "b38bd2e5",
   "metadata": {},
   "outputs": [],
   "source": [
    "def func1():\n",
    "    print(\"My function\")"
   ]
  },
  {
   "cell_type": "code",
   "execution_count": 3,
   "id": "ad6987a6",
   "metadata": {},
   "outputs": [
    {
     "name": "stdout",
     "output_type": "stream",
     "text": [
      "My function\n"
     ]
    }
   ],
   "source": [
    "func1()"
   ]
  },
  {
   "cell_type": "code",
   "execution_count": 4,
   "id": "c38629ad",
   "metadata": {},
   "outputs": [],
   "source": [
    "def func2(a, b):\n",
    "    c = a+b\n",
    "    print(c)"
   ]
  },
  {
   "cell_type": "code",
   "execution_count": 5,
   "id": "7cd4bd4a",
   "metadata": {},
   "outputs": [
    {
     "name": "stdout",
     "output_type": "stream",
     "text": [
      "9\n"
     ]
    }
   ],
   "source": [
    "func2(5,4)"
   ]
  },
  {
   "cell_type": "code",
   "execution_count": 6,
   "id": "9ede2070",
   "metadata": {},
   "outputs": [],
   "source": [
    "def func3(a, b):\n",
    "    c = a+b\n",
    "    return c"
   ]
  },
  {
   "cell_type": "code",
   "execution_count": 7,
   "id": "210956c7",
   "metadata": {},
   "outputs": [
    {
     "name": "stdout",
     "output_type": "stream",
     "text": [
      "9\n"
     ]
    }
   ],
   "source": [
    "print(func3(4,5))"
   ]
  },
  {
   "cell_type": "code",
   "execution_count": 9,
   "id": "dd2e14a6",
   "metadata": {},
   "outputs": [
    {
     "name": "stdout",
     "output_type": "stream",
     "text": [
      "9\n"
     ]
    }
   ],
   "source": [
    "a = func3(4,5)\n",
    "print(a)"
   ]
  },
  {
   "cell_type": "code",
   "execution_count": 16,
   "id": "98827b32",
   "metadata": {},
   "outputs": [],
   "source": [
    "def func4(country= \"Bangladesh\"):\n",
    "    print(country)"
   ]
  },
  {
   "cell_type": "code",
   "execution_count": 17,
   "id": "ecb0b6d0",
   "metadata": {},
   "outputs": [
    {
     "name": "stdout",
     "output_type": "stream",
     "text": [
      "Argentina\n"
     ]
    }
   ],
   "source": [
    "func4(\"Argentina\")"
   ]
  },
  {
   "cell_type": "code",
   "execution_count": 18,
   "id": "bbcd09f6",
   "metadata": {},
   "outputs": [
    {
     "name": "stdout",
     "output_type": "stream",
     "text": [
      "Bangladesh\n"
     ]
    }
   ],
   "source": [
    "func4()"
   ]
  },
  {
   "cell_type": "code",
   "execution_count": null,
   "id": "a2159bb2",
   "metadata": {},
   "outputs": [],
   "source": []
  }
 ],
 "metadata": {
  "kernelspec": {
   "display_name": "Python 3 (ipykernel)",
   "language": "python",
   "name": "python3"
  },
  "language_info": {
   "codemirror_mode": {
    "name": "ipython",
    "version": 3
   },
   "file_extension": ".py",
   "mimetype": "text/x-python",
   "name": "python",
   "nbconvert_exporter": "python",
   "pygments_lexer": "ipython3",
   "version": "3.9.13"
  }
 },
 "nbformat": 4,
 "nbformat_minor": 5
}
