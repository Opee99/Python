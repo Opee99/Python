{
 "cells": [
  {
   "cell_type": "code",
   "execution_count": 29,
   "id": "7e07ddf9",
   "metadata": {},
   "outputs": [
    {
     "name": "stdout",
     "output_type": "stream",
     "text": [
      "Hello world\n"
     ]
    }
   ],
   "source": [
    "#This is a comment\n",
    "print(\"Hello world\")"
   ]
  },
  {
   "cell_type": "code",
   "execution_count": null,
   "id": "09822fb0",
   "metadata": {},
   "outputs": [],
   "source": [
    "\"\"\"\n",
    "print(\"Hello python\")\n",
    "a= 7\n",
    "print(a)\n",
    "\"\"\""
   ]
  },
  {
   "cell_type": "code",
   "execution_count": null,
   "id": "0d0dd7a8",
   "metadata": {},
   "outputs": [],
   "source": [
    "'''\n",
    "print(\"Hello python\")\n",
    "a= 7\n",
    "print(a)\n",
    "'''"
   ]
  }
 ],
 "metadata": {
  "kernelspec": {
   "display_name": "Python 3 (ipykernel)",
   "language": "python",
   "name": "python3"
  },
  "language_info": {
   "codemirror_mode": {
    "name": "ipython",
    "version": 3
   },
   "file_extension": ".py",
   "mimetype": "text/x-python",
   "name": "python",
   "nbconvert_exporter": "python",
   "pygments_lexer": "ipython3",
   "version": "3.9.13"
  }
 },
 "nbformat": 4,
 "nbformat_minor": 5
}
